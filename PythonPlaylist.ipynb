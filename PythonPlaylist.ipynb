{
 "cells": [
  {
   "cell_type": "code",
   "execution_count": 4,
   "outputs": [
    {
     "data": {
      "text/plain": "str"
     },
     "execution_count": 4,
     "metadata": {},
     "output_type": "execute_result"
    }
   ],
   "source": [
    "import copy\n",
    "\n",
    "mystr='sai1'\n",
    "type(mystr)"
   ],
   "metadata": {
    "collapsed": false,
    "ExecuteTime": {
     "end_time": "2024-04-08T18:11:21.885420800Z",
     "start_time": "2024-04-08T18:11:21.880883600Z"
    }
   },
   "id": "ace1c2435797fc92"
  },
  {
   "cell_type": "code",
   "execution_count": 5,
   "outputs": [
    {
     "data": {
      "text/plain": "True"
     },
     "execution_count": 5,
     "metadata": {},
     "output_type": "execute_result"
    }
   ],
   "source": [
    "mystr='sai1'\n",
    "mystr.isalnum()"
   ],
   "metadata": {
    "collapsed": false,
    "ExecuteTime": {
     "end_time": "2024-04-08T18:12:03.000299Z",
     "start_time": "2024-04-08T18:12:02.994420Z"
    }
   },
   "id": "cb3d6720796ab317"
  },
  {
   "cell_type": "code",
   "execution_count": 7,
   "outputs": [
    {
     "data": {
      "text/plain": "[]"
     },
     "execution_count": 7,
     "metadata": {},
     "output_type": "execute_result"
    }
   ],
   "source": [
    "list()"
   ],
   "metadata": {
    "collapsed": false,
    "ExecuteTime": {
     "end_time": "2024-04-08T21:06:43.830331800Z",
     "start_time": "2024-04-08T21:06:43.827068300Z"
    }
   },
   "id": "cc04fd1a0f5328fe"
  },
  {
   "cell_type": "code",
   "execution_count": 13,
   "outputs": [
    {
     "name": "stdout",
     "output_type": "stream",
     "text": [
      "<class 'list'>\n",
      "[]\n",
      "<class 'type'>\n",
      "<class 'type'>\n"
     ]
    }
   ],
   "source": [
    "print(list)\n",
    "print(list())\n",
    "print(type(list))\n",
    "type(list())\n",
    "print(type)\n"
   ],
   "metadata": {
    "collapsed": false,
    "ExecuteTime": {
     "end_time": "2024-04-08T21:12:28.664127600Z",
     "start_time": "2024-04-08T21:12:28.656464500Z"
    }
   },
   "id": "d7e6fafb3653b0a7"
  },
  {
   "cell_type": "code",
   "execution_count": 14,
   "outputs": [],
   "source": [
    "squares = [x**2 for x in range(10)]"
   ],
   "metadata": {
    "collapsed": false,
    "ExecuteTime": {
     "end_time": "2024-04-08T22:15:55.604300700Z",
     "start_time": "2024-04-08T22:15:55.599189200Z"
    }
   },
   "id": "7b109062bbedf06a"
  },
  {
   "cell_type": "code",
   "execution_count": 32,
   "outputs": [
    {
     "name": "stdout",
     "output_type": "stream",
     "text": [
      "[0, 1, 4, 9, 16, 25, 36, 49, 64, 81]\n"
     ]
    }
   ],
   "source": [
    "print(squares)"
   ],
   "metadata": {
    "collapsed": false,
    "ExecuteTime": {
     "end_time": "2024-04-09T18:17:57.972692400Z",
     "start_time": "2024-04-09T18:17:57.965194800Z"
    }
   },
   "id": "79325ebefb505d30"
  },
  {
   "cell_type": "code",
   "execution_count": 35,
   "outputs": [
    {
     "name": "stdout",
     "output_type": "stream",
     "text": [
      "[1, 2, 3, [45, 90]]\n",
      "[1, 2, 3, [45, 90]]\n"
     ]
    },
    {
     "data": {
      "text/plain": "[1, 2, 3, [45, 90]]"
     },
     "execution_count": 35,
     "metadata": {},
     "output_type": "execute_result"
    }
   ],
   "source": [
    "a= [1,2,3,[45,90]]\n",
    "print(a)\n",
    "b= a\n",
    "print(b)\n",
    "b=a.copy()\n",
    "b"
   ],
   "metadata": {
    "collapsed": false,
    "ExecuteTime": {
     "end_time": "2024-04-09T18:19:43.658020900Z",
     "start_time": "2024-04-09T18:19:43.653262500Z"
    }
   },
   "id": "256bcbaec44e4062"
  },
  {
   "cell_type": "code",
   "execution_count": 36,
   "outputs": [
    {
     "name": "stdout",
     "output_type": "stream",
     "text": [
      "[1, 2, 3, [45, 90]]\n",
      "[1, 2, 3, [45, 3]]\n"
     ]
    }
   ],
   "source": [
    "import copy\n",
    "\n",
    "deep= copy.deepcopy(a)\n",
    "\n",
    "a[3][1]=3\n",
    "print(deep)\n",
    "print(b)"
   ],
   "metadata": {
    "collapsed": false,
    "ExecuteTime": {
     "end_time": "2024-04-09T18:19:46.152866900Z",
     "start_time": "2024-04-09T18:19:46.144191700Z"
    }
   },
   "id": "df5deaa3b549c26b"
  },
  {
   "cell_type": "code",
   "execution_count": null,
   "outputs": [],
   "source": [],
   "metadata": {
    "collapsed": false
   },
   "id": "2b200fb2a53ace2b"
  },
  {
   "cell_type": "markdown",
   "source": [
    "## Excercise 5: Lists\n",
    "\n",
    "Let us say your expense for every month are listed below,\n",
    "January - 2200\n",
    "February - 2350\n",
    "March - 2600\n",
    "April - 2130\n",
    "May - 2190\n",
    "Create a list to store these monthly expenses and using that find out,\n",
    "\n",
    "1. In Feb, how many dollars you spent extra compare to January?\n",
    "2. Find out your total expense in first quarter (first three months) of the year.\n",
    "3. Find out if you spent exactly 2000 dollars in any month\n",
    "4. June month just finished and your expense is 1980 dollar. Add this item to our monthly expense list\n",
    "5. You returned an item that you bought in a month of April and\n",
    "got a refund of 200$. Make a correction to your monthly expense list\n",
    "based on this\n",
    "You have a list of your favourite marvel super heros.\n",
    "heros=['spider man','thor','hulk','iron man','captain america']\n",
    "Using this find out,\n",
    "\n",
    "1. Length of the list\n",
    "2. Add 'black panther' at the end of this list\n",
    "3. You realize that you need to add 'black panther' after 'hulk',\n",
    "   so remove it from the list first and then add it after 'hulk'\n",
    "4. Now you don't like thor and hulk because they get angry easily :)\n",
    "   So you want to remove thor and hulk from list and replace them with doctor strange (because he is cool).\n",
    "   Do that with one line of code.\n",
    "5. Sort the heros list in alphabetical order (Hint. Use dir() functions to list down all functions available in list)\n",
    "\n",
    "\n"
   ],
   "metadata": {
    "collapsed": false
   },
   "id": "f446d3e3f8339fa6"
  },
  {
   "cell_type": "code",
   "execution_count": 26,
   "outputs": [
    {
     "name": "stdout",
     "output_type": "stream",
     "text": [
      "outcome of extra spent in feb compared to january is 150\n",
      "outcome of money spent in the first quarter is 9280\n",
      "Did i spend an exact amount of 2000 in the first quarter? False\n",
      "[['january', 2200], ['February', 2350], ['March', 2600], ['April', 2130], ['May', 2190], ['June', 1980]]\n",
      "***********************\n",
      "[['january', 2200], ['February', 2350], ['March', 2600], ['April', 1930], ['May', 2190], ['June', 1980]]\n"
     ]
    }
   ],
   "source": [
    "List =[['january', 2200], ['February', 2350], ['March', 2600], ['April', 2130], ['May', 2190]]\n",
    "outcome = List[1][1]-List[0][1]\n",
    "print('outcome of extra spent in feb compared to january is',outcome)\n",
    "outcome1= List[1][1]+List[0][1]+List[2][1]+List[3][1]\n",
    "print('outcome of money spent in the first quarter is', outcome1)\n",
    "print('Did i spend an exact amount of 2000 in the first quarter?', 2000 in List)\n",
    "List.append(['June', 1980])\n",
    "print(List)\n",
    "print('***********************')\n",
    "List[3][1] = (List[3][1]-200)\n",
    "print(List)"
   ],
   "metadata": {
    "collapsed": false,
    "ExecuteTime": {
     "end_time": "2024-04-09T20:47:00.214349100Z",
     "start_time": "2024-04-09T20:47:00.206201900Z"
    }
   },
   "id": "287216c197b8f91"
  },
  {
   "cell_type": "code",
   "execution_count": 36,
   "outputs": [
    {
     "name": "stdout",
     "output_type": "stream",
     "text": [
      "['spider man', 'thor', 'hulk', 'iron man', 'captain america', 'black panther']\n",
      "['spider man', 'thor', 'hulk', 'iron man', 'captain america']\n",
      "['spider man', 'thor', 'hulk', 'black panther', 'iron man', 'captain america']\n",
      "['spider man', 'doctor strange', 'black panther', 'iron man', 'captain america']\n",
      "['black panther', 'captain america', 'doctor strange', 'iron man', 'spider man']\n"
     ]
    }
   ],
   "source": [
    "heros=['spider man','thor','hulk','iron man','captain america']\n",
    "len(heros)\n",
    "heros.append('black panther')\n",
    "print(heros)\n",
    "heros.remove('black panther')\n",
    "print(heros)\n",
    "heros.insert(3,'black panther')\n",
    "print(heros)\n",
    "heros[1:3]=['doctor strange']\n",
    "print(heros)\n",
    "heros.sort()\n",
    "print(heros)"
   ],
   "metadata": {
    "collapsed": false,
    "ExecuteTime": {
     "end_time": "2024-04-09T21:00:59.278418400Z",
     "start_time": "2024-04-09T21:00:59.271975600Z"
    }
   },
   "id": "6b495d26ca5abbd1"
  },
  {
   "cell_type": "code",
   "execution_count": null,
   "outputs": [],
   "source": [],
   "metadata": {
    "collapsed": false
   },
   "id": "3656e5b07212137b"
  }
 ],
 "metadata": {
  "kernelspec": {
   "display_name": "Python 3",
   "language": "python",
   "name": "python3"
  },
  "language_info": {
   "codemirror_mode": {
    "name": "ipython",
    "version": 2
   },
   "file_extension": ".py",
   "mimetype": "text/x-python",
   "name": "python",
   "nbconvert_exporter": "python",
   "pygments_lexer": "ipython2",
   "version": "2.7.6"
  }
 },
 "nbformat": 4,
 "nbformat_minor": 5
}
